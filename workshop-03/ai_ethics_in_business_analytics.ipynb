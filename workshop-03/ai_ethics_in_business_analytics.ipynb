{
  "cells": [
    {
      "cell_type": "markdown",
      "metadata": {
        "id": "j5JWwnRd8KXe"
      },
      "source": [
        "# 1. Welcome and Introducation\n",
        "\n",
        "## Who we are\n",
        "![Team](https://raw.githubusercontent.com/mzhuang3/my-project-images/main/ai-business-analytics-workshops/team.png)\n",
        "\n",
        "---\n",
        "\n",
        "## Our collaborative objectives\n",
        "> Implement a series of AI-integrated workshops on data-driven decision making, aiming to enrich prospective students' learning experiences and encourage increased participation and success in the business analytics program.\n",
        "\n",
        "---\n",
        "\n",
        "## Workshop agenda\n",
        "0. [Setup](#Setup)\n",
        "1. [Welcome and Introduction](#1-welcome-and-introducation)\n",
        "2. [Consent and Pre-measurements](#2-consent-and-pre-measurements)\n",
        "3. [Lecture](#3-lecture)\n",
        "4. [Demo](#4-demo)\n",
        "5. [Wrap-up](#5-wrap-up)\n",
        "6. [Post-measurements](#6-post-measurements)\n",
        "\n",
        "---\n",
        "\n",
        "## Workshop series\n",
        "\n",
        "<div style=\"color: lightgrey;\">\n",
        "\n",
        "* Workshop 1:\n",
        "    * Understand fundamental AI concepts\n",
        "    * Identify specific AI use cases in business scenarios, with a focus on AI in data modeling\n",
        "    * Experiment with AI tool (i.e., LLMs-based agents) deployment as an assistant for business analysts\n",
        "        * Analytics task: Understanding your customer\n",
        "            * customer segementation\n",
        "            * co-buying behaviors\n",
        "    * Recognize AI's dual role in enhancing business analytics - both in data modeling and as an assitant for business analysts\n",
        "\n",
        "* Workshop 2:\n",
        "    * Understand the role of data visualization in business analytics\n",
        "    * Identify basic chart types and when to use\n",
        "    * Experiment with AI tool (i.e., LLMs-based agents) deployment as an assistant for business analysts\n",
        "        * Analytics task: Understanding your product\n",
        "            * historical performance\n",
        "            * revenue prediction\n",
        "            * demand forecasting\n",
        "            * price optimization\n",
        "\n",
        "</div>\n",
        "\n",
        "* Workshop 3:\n",
        "    * Understand general AI ethical challenges\n",
        "    * Identify AI ethics in business analytics\n",
        "    * Gain insights from a business analyst professional\n",
        "        * Explore the career paths\n",
        "        * Identify essential skills\n",
        "        * Understand AI’s impact on the industry"
      ]
    },
    {
      "cell_type": "markdown",
      "metadata": {
        "id": "L9lPnFUL8KXj"
      },
      "source": [
        "# 2. Consent and Pre-survey\n",
        "\n",
        "Note. If you had already filled it out in past workshops, you don't need to do it.\n",
        "\n",
        "## Consent Form\n",
        "- [Link](https://docs.google.com/forms/d/e/1FAIpQLSc3DNPf8Yu99O4crWiQMdGzJli8R4QlmlMsL04aYDG2Y2vMvw/viewform?usp=share_link)\n",
        "- <img src=\"https://raw.githubusercontent.com/mzhuang3/my-project-images/main/ai-business-analytics-workshops/consent.png\" alt=\"QR\" width=\"200\">\n",
        "\n",
        "## Pre-survey (prior experience and knowledge)\n",
        "* [Link](https://ncsu.qualtrics.com/jfe/form/SV_3JdVSGjdZP7qjSm)\n",
        "* <img src=\"https://raw.githubusercontent.com/mzhuang3/my-project-images/main/ai-business-analytics-workshops/pre_survey.png\" alt=\"QR\" width=\"200\">"
      ]
    },
    {
      "cell_type": "markdown",
      "metadata": {
        "id": "r2SGqaYM8KXj"
      },
      "source": [
        "# 3. Lecture\n",
        "\n",
        "## Today's Topics\n",
        "- What are the general AI ethical challenges?\n",
        "- What are some AI ethics specifically in Business Analytics?\n",
        "\n",
        "---\n",
        "\n",
        "## General AI ethical challenges\n",
        "![AI Ethical Challgenges](https://raw.githubusercontent.com/mzhuang3/my-project-images/main/ai-business-analytics-workshops/ai_ethics.png)\n",
        "[Image credit: Geeksforgeeks](https://www.geeksforgeeks.org/top-9-ethical-issues-in-artificial-intelligence/)\n",
        "\n",
        "### A Quick AI Experiment - Is AI biased?\n",
        "![Is AI biased](https://raw.githubusercontent.com/mzhuang3/my-project-images/main/ai-business-analytics-workshops/quick_draw.png)\n",
        "[Click here directing to the platform; Image Credit: Google](https://quickdraw.withgoogle.com)\n",
        "\n",
        "---\n",
        "\n",
        "## AI ethics in Business Analytics\n",
        "![AI ethics in Business Analytics](https://raw.githubusercontent.com/mzhuang3/my-project-images/main/ai-business-analytics-workshops/ai_ethics_in_ba.png)\n",
        "[Image credit: Harvard Business School](https://online.hbs.edu/blog/post/ethical-considerations-of-ai)"
      ]
    },
    {
      "cell_type": "markdown",
      "metadata": {
        "id": "5m67zQjp8KXk"
      },
      "source": [
        "# 4. Invited Speaker\n",
        "\n",
        "![Speaker](https://raw.githubusercontent.com/mzhuang3/my-project-images/main/ai-business-analytics-workshops/speaker.png)\n",
        "[Link to Dr. Glass's website](https://glassgrant.com)"
      ]
    },
    {
      "cell_type": "markdown",
      "metadata": {
        "id": "7ZAx-Uk48KXk"
      },
      "source": [
        "# 5. Wrap-up\n",
        "\n",
        "<blockquote style=\"font-size: 30px; margin-left: 20px;\">\n",
        "\"AI doesn’t have ethics. Humans do. The challenge is ensuring we embed those ethics in AI.\"\n",
        "</blockquote>\n",
        "\n",
        "![Flawed Data](https://raw.githubusercontent.com/mzhuang3/my-project-images/main/ai-business-analytics-workshops/flawed_data.png)\n",
        "[Image credit: xkcd](https://xkcd.com/2494)\n",
        "\n",
        "\n",
        "## Future Learning Resources\n",
        "\n",
        "- [Prompt Engineering](https://www.promptingguide.ai) - a comprehensive resource designed to help users master the art of prompt engineering for AI models. It provides structured guidance, best practices, and practical examples to improve interactions with AI systems like ChatGPT, Claude, and other LLMs.\n",
        "- [Artificial Intelligence for Business Analytics](https://catalog.lib.ncsu.edu/catalog/NCSU5631581) - a comprehensive guide to AI’s role in business analytics, covering fundamental algorithms, leading platforms, and real-world application scenarios. Designed for business analysts, data scientists, and decision-makers, it includes the knowledge to harness AI effectively, navigate emerging trends, and unlock the potential of data-driven intelligence in business environments.\n",
        "- [Mckinsey Report1 - AI in Company](https://www.mckinsey.com/capabilities/mckinsey-digital/our-insights/superagency-in-the-workplace-empowering-people-to-unlock-ais-full-potential-at-work) & [Mckinsey Report2 - AI in Company](https://www.mckinsey.com/capabilities/quantumblack/our-insights/the-state-of-ai)\n"
      ]
    },
    {
      "cell_type": "markdown",
      "metadata": {
        "id": "CevwpcxB8KXl"
      },
      "source": [
        "# 6. Post-survey\n",
        "\n",
        "* [Link](https://ncsu.qualtrics.com/jfe/form/SV_6VTIyENQC8rew98)\n",
        "* <img src=\"https://raw.githubusercontent.com/mzhuang3/my-project-images/main/ai-business-analytics-workshops/post_survey.png\" alt=\"QR\" width=\"200\">"
      ]
    }
  ],
  "metadata": {
    "colab": {
      "provenance": [],
      "toc_visible": true
    },
    "kernelspec": {
      "display_name": "py312",
      "language": "python",
      "name": "python3"
    },
    "language_info": {
      "codemirror_mode": {
        "name": "ipython",
        "version": 3
      },
      "file_extension": ".py",
      "mimetype": "text/x-python",
      "name": "python",
      "nbconvert_exporter": "python",
      "pygments_lexer": "ipython3",
      "version": "3.12.3"
    }
  },
  "nbformat": 4,
  "nbformat_minor": 0
}