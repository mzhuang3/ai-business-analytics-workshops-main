{
 "cells": [
  {
   "cell_type": "markdown",
   "metadata": {},
   "source": [
    "# 1. Welcome and Introducation\n",
    "\n",
    "## Who we are\n",
    "![Team](https://raw.githubusercontent.com/mzhuang3/my-project-images/main/ai-business-analytics-workshops/team.png)\n",
    "\n",
    "## Our collaborative objectives\n",
    "> Implement a series of AI-integrated workshops on data-driven decision making, aiming to enrich prospective students' learning experiences and encourage increased participation and success in the business analytics program. \n",
    " \n",
    "\n",
    "---\n",
    "\n",
    "## Workshop agenda\n",
    "0. [Setup](#Setup)\n",
    "1. [Welcome and Introduction](#1-welcome-and-introducation)\n",
    "2. [Consent and Pre-measurements](#2-consent-and-pre-measurements)\n",
    "3. [Lecture](#3-lecture)\n",
    "4. [Demo](#4-demo)\n",
    "5. [Wrap-up](#5-wrap-up)\n",
    "6. [Post-measurements](#6-post-measurements) \n",
    "\n",
    "---\n",
    "\n",
    "## Workshop series\n",
    "\n",
    "<div style=\"color: lightgrey;\">\n",
    "\n",
    "* Workshop 1:\n",
    "    * Understand fundamental AI concepts\n",
    "    * Identify specific AI use cases in business scenarios, with a focus on AI in data modeling\n",
    "    * Experiment with AI tool (i.e., LLMs-based agents) deployment as an assistant for business analysts\n",
    "        * Analytics task: Understanding your customer\n",
    "            * customer segementation\n",
    "            * co-buying behaviors\n",
    "    * Recognize AI's dual role in enhancing business analytics - both in data modeling and as an assitant for business analysts\n",
    "\n",
    "* Workshop 2:\n",
    "    * Understand the role of data visualization in business analytics \n",
    "    * Identify basic chart types and when to use\n",
    "    * Experiment with AI tool (i.e., LLMs-based agents) deployment as an assistant for business analysts\n",
    "        * Analytics task: Understanding your product\n",
    "            * historical performance\n",
    "            * revenue prediction\n",
    "            * demand forecasting\n",
    "            * price optimization\n",
    "\n",
    "</div>\n",
    "\n",
    "* Workshop 3:\n",
    "    * Understand general AI ethical challenges\n",
    "    * Identify AI ethics in business analytics\n",
    "    * Gain insights from a business analyst professional\n",
    "        * Explore the career paths\n",
    "        * Identify essential skills\n",
    "        * Understand AI’s impact on the industry"
   ]
  },
  {
   "cell_type": "markdown",
   "metadata": {},
   "source": [
    "# 2. Consent and Pre-measurements\n",
    "\n",
    "## Consent Form\n",
    "- [Link](https://docs.google.com/forms/d/e/1FAIpQLSc3DNPf8Yu99O4crWiQMdGzJli8R4QlmlMsL04aYDG2Y2vMvw/viewform?usp=share_link)\n",
    "- <img src=\"https://raw.githubusercontent.com/mzhuang3/my-project-images/main/ai-business-analytics-workshops/consent.png\" alt=\"QR\" width=\"200\">\n",
    "\n",
    "## Pre-assessments (prior knowledge)\n",
    "- [Link](https://ncsu.qualtrics.com/jfe/form/SV_6Wf0Ix7EdB9NDpA)\n",
    "- <img src=\"https://raw.githubusercontent.com/mzhuang3/my-project-images/main/ai-business-analytics-workshops/pre_assess.png\" alt=\"QR\" width=\"200\">\n",
    "\n",
    "\n",
    "## Pre-survey (prior experience)\n",
    "* [Link](https://ncsu.qualtrics.com/jfe/form/SV_3JdVSGjdZP7qjSm)\n",
    "* <img src=\"https://raw.githubusercontent.com/mzhuang3/my-project-images/main/ai-business-analytics-workshops/pre_survey.png\" alt=\"QR\" width=\"200\">"
   ]
  },
  {
   "cell_type": "markdown",
   "metadata": {},
   "source": [
    "# 3. Lecture\n",
    "\n",
    "## Today's Topics\n",
    "- What are the general AI ethical challenges?\n",
    "- What are some AI ethics specifically in Business Analytics?\n",
    "\n",
    "\n",
    "## General AI ethical challenges\n",
    "![AI Ethical Challgenges](https://raw.githubusercontent.com/mzhuang3/my-project-images/main/ai-business-analytics-workshops/ai_ethics.png)\n",
    "[Image credit: Geeksforgeeks](https://www.geeksforgeeks.org/top-9-ethical-issues-in-artificial-intelligence/)\n",
    "\n",
    "### A Quick AI Experiment - Is AI biased? \n",
    "![Is AI biased](https://raw.githubusercontent.com/mzhuang3/my-project-images/main/ai-business-analytics-workshops/quick_draw.png)\n",
    "[Click here directing to the platform; Image Credit: Google](https://quickdraw.withgoogle.com)\n",
    "\n",
    "\n",
    "## AI ethics in Business Analytics\n",
    "![AI ethics in Business Analytics](https://raw.githubusercontent.com/mzhuang3/my-project-images/main/ai-business-analytics-workshops/ai_ethics_in_ba.png)\n",
    "[Image credit: Harvard Business School](https://online.hbs.edu/blog/post/ethical-considerations-of-ai)"
   ]
  },
  {
   "cell_type": "markdown",
   "metadata": {},
   "source": [
    "# 4. Invited Speaker\n",
    "\n",
    "![Speaker](https://raw.githubusercontent.com/mzhuang3/my-project-images/main/ai-business-analytics-workshops/speaker.png)\n",
    "[Link to Dr. Glass's website](https://glassgrant.com)"
   ]
  },
  {
   "cell_type": "markdown",
   "metadata": {},
   "source": [
    "# 5. Wrap-up\n",
    "\n",
    "<blockquote style=\"font-size: 30px; margin-left: 20px;\">\n",
    "\"AI doesn’t have ethics. Humans do. The challenge is ensuring we embed those ethics in AI.\" \n",
    "</blockquote>\n",
    "\n",
    "![Flawed Data](https://raw.githubusercontent.com/mzhuang3/my-project-images/main/ai-business-analytics-workshops/flawed_data.png)\n",
    "[Image credit: xkcd](https://xkcd.com/2494)\n",
    "\n",
    "\n",
    "## Future Learning Resources\n",
    "\n",
    "- [Deep Dive into LLMs like ChatGPT](https://youtu.be/7xTGNNLPyMI?si=tuOTm8Zdv8GycV6R) - a general audience deep dive into the Large Language Model (LLM) AI technology that powers ChatGPT and related products. It is covers the full training stack of how the models are developed, along with mental models of how to think about their \"psychology\", and how to get the best use them in practical applications.\n",
    "- [Prompt Engineering](https://www.promptingguide.ai) - a comprehensive resource designed to help users master the art of prompt engineering for AI models. It provides structured guidance, best practices, and practical examples to improve interactions with AI systems like ChatGPT, Claude, and other LLMs.\n",
    "- [Hugging Face](https://huggingface.co/)- a leading platform for open-source AI, specializing in natural language processing (NLP), machine learning models, and AI collaboration tools. It provides a comprehensive ecosystem for developers, researchers, and organizations to build, train, and deploy AI models efficiently.\n",
    "- [Mckinsey Report1 - AI in Company](https://www.mckinsey.com/capabilities/mckinsey-digital/our-insights/superagency-in-the-workplace-empowering-people-to-unlock-ais-full-potential-at-work) (https://www.mckinsey.com/capabilities/quantumblack/our-insights/the-state-of-ai)\n"
   ]
  },
  {
   "cell_type": "markdown",
   "metadata": {},
   "source": [
    "# 6. Post-measurements\n",
    "\n",
    "## Post-assessments (post knowledge)\n",
    "* [Link](https://ncsu.qualtrics.com/jfe/form/SV_8qfQ1kyxCpcRMrQ)\n",
    "* <img src=\"https://raw.githubusercontent.com/mzhuang3/my-project-images/main/ai-business-analytics-workshops/post_assess.png\" alt=\"QR\" width=\"200\">\n",
    "\n",
    "## Post-survey (post experience)\n",
    "* [Link](https://ncsu.qualtrics.com/jfe/form/SV_6VTIyENQC8rew98)\n",
    "* <img src=\"https://raw.githubusercontent.com/mzhuang3/my-project-images/main/ai-business-analytics-workshops/post_survey.png\" alt=\"QR\" width=\"200\">"
   ]
  }
 ],
 "metadata": {
  "colab": {
   "collapsed_sections": [],
   "name": "Python_Open_Labs_Week1_filled.ipynb",
   "provenance": [],
   "toc_visible": true
  },
  "kernelspec": {
   "display_name": "py312",
   "language": "python",
   "name": "python3"
  },
  "language_info": {
   "codemirror_mode": {
    "name": "ipython",
    "version": 3
   },
   "file_extension": ".py",
   "mimetype": "text/x-python",
   "name": "python",
   "nbconvert_exporter": "python",
   "pygments_lexer": "ipython3",
   "version": "3.12.3"
  }
 },
 "nbformat": 4,
 "nbformat_minor": 1
}
